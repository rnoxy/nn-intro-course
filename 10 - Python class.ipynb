{
 "cells": [
  {
   "cell_type": "markdown",
   "id": "455a82c5",
   "metadata": {},
   "source": [
    "<img src=\"data:image/png;base64,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\" width=\"150\" style=\"float:left\">\n",
    "<div style=\"clear:both\"></div>\n",
    "Rafał Nowak<br/>\n",
    "<a href=\"https://github.com/rnoxy\">github.com/rnoxy</a>"
   ]
  },
  {
   "cell_type": "markdown",
   "id": "203615ba",
   "metadata": {},
   "source": [
    "# Classes in Python"
   ]
  },
  {
   "cell_type": "code",
   "execution_count": 22,
   "id": "685280b9",
   "metadata": {},
   "outputs": [],
   "source": [
    "class MyModel():\n",
    "    def __init__(self, x):\n",
    "        self.x = x\n",
    "        \n",
    "    def forward(self, y):\n",
    "        return self.x + y"
   ]
  },
  {
   "cell_type": "code",
   "execution_count": 18,
   "id": "60f23d40",
   "metadata": {},
   "outputs": [],
   "source": [
    "model = MyModel(10)"
   ]
  },
  {
   "cell_type": "code",
   "execution_count": 19,
   "id": "ff0108d7",
   "metadata": {},
   "outputs": [
    {
     "data": {
      "text/plain": [
       "10"
      ]
     },
     "execution_count": 19,
     "metadata": {},
     "output_type": "execute_result"
    }
   ],
   "source": [
    "model.x"
   ]
  },
  {
   "cell_type": "code",
   "execution_count": 21,
   "id": "8836262b",
   "metadata": {},
   "outputs": [
    {
     "data": {
      "text/plain": [
       "110"
      ]
     },
     "execution_count": 21,
     "metadata": {},
     "output_type": "execute_result"
    }
   ],
   "source": [
    "model.forward( 100 )"
   ]
  },
  {
   "cell_type": "code",
   "execution_count": null,
   "id": "8f0ebd77",
   "metadata": {},
   "outputs": [],
   "source": []
  }
 ],
 "metadata": {
  "kernelspec": {
   "display_name": "Python 3 (ipykernel)",
   "language": "python",
   "name": "python3"
  },
  "language_info": {
   "codemirror_mode": {
    "name": "ipython",
    "version": 3
   },
   "file_extension": ".py",
   "mimetype": "text/x-python",
   "name": "python",
   "nbconvert_exporter": "python",
   "pygments_lexer": "ipython3",
   "version": "3.9.12"
  }
 },
 "nbformat": 4,
 "nbformat_minor": 5
}
