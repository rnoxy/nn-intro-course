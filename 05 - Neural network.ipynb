{
 "cells": [
  {
   "cell_type": "markdown",
   "id": "4969cca7",
   "metadata": {},
   "source": [
    "<img src=\"data:image/png;base64,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\" width=\"150\" style=\"float:left\">\n",
    "<div style=\"clear:both\"></div>\n",
    "Rafał Nowak<br/>\n",
    "<a href=\"https://github.com/rnoxy\">github.com/rnoxy</a>"
   ]
  },
  {
   "cell_type": "code",
   "execution_count": 1,
   "id": "c7d923d1",
   "metadata": {},
   "outputs": [],
   "source": [
    "import torch"
   ]
  },
  {
   "cell_type": "code",
   "execution_count": 2,
   "id": "34e7e6c6",
   "metadata": {},
   "outputs": [
    {
     "data": {
      "text/plain": [
       "torch.Size([10, 4])"
      ]
     },
     "execution_count": 2,
     "metadata": {},
     "output_type": "execute_result"
    }
   ],
   "source": [
    "N, D = 10, 4\n",
    "X = torch.randn(N, D)\n",
    "X.shape"
   ]
  },
  {
   "cell_type": "code",
   "execution_count": 3,
   "id": "30ec794b",
   "metadata": {},
   "outputs": [],
   "source": [
    "W1 = torch.randn(D, 5, requires_grad=True)\n",
    "b1 = torch.randn(5, requires_grad=True)"
   ]
  },
  {
   "cell_type": "code",
   "execution_count": 4,
   "id": "79fb5159",
   "metadata": {},
   "outputs": [],
   "source": [
    "Z1 = torch.matmul(X, W1)+b1\n",
    "A1 = torch.tanh( Z1 )"
   ]
  },
  {
   "cell_type": "code",
   "execution_count": 5,
   "id": "9b18c8bb",
   "metadata": {},
   "outputs": [
    {
     "data": {
      "text/plain": [
       "torch.Size([10, 5])"
      ]
     },
     "execution_count": 5,
     "metadata": {},
     "output_type": "execute_result"
    }
   ],
   "source": [
    "A1.shape"
   ]
  },
  {
   "cell_type": "code",
   "execution_count": 6,
   "id": "62a15c8e",
   "metadata": {},
   "outputs": [],
   "source": [
    "W2 = torch.randn(5, 7, requires_grad=True)\n",
    "b2 = torch.randn(7, requires_grad=True)"
   ]
  },
  {
   "cell_type": "code",
   "execution_count": 7,
   "id": "e57d13d7",
   "metadata": {},
   "outputs": [],
   "source": [
    "Z2 = torch.matmul(A1, W2)+b2\n",
    "A2 = torch.tanh( Z2 )"
   ]
  },
  {
   "cell_type": "code",
   "execution_count": 8,
   "id": "bb1c269c",
   "metadata": {},
   "outputs": [
    {
     "data": {
      "text/plain": [
       "torch.Size([10, 7])"
      ]
     },
     "execution_count": 8,
     "metadata": {},
     "output_type": "execute_result"
    }
   ],
   "source": [
    "A2.shape"
   ]
  },
  {
   "cell_type": "code",
   "execution_count": 9,
   "id": "286e1d70",
   "metadata": {},
   "outputs": [],
   "source": [
    "W3 = torch.randn(7, 3, requires_grad=True)\n",
    "b3 = torch.randn(3, requires_grad=True)"
   ]
  },
  {
   "cell_type": "code",
   "execution_count": 10,
   "id": "1a6fa8a4",
   "metadata": {},
   "outputs": [],
   "source": [
    "Z3 = torch.matmul(A2, W3)+b3"
   ]
  },
  {
   "cell_type": "code",
   "execution_count": 11,
   "id": "b881bcac",
   "metadata": {},
   "outputs": [
    {
     "data": {
      "text/plain": [
       "torch.Size([10, 3])"
      ]
     },
     "execution_count": 11,
     "metadata": {},
     "output_type": "execute_result"
    }
   ],
   "source": [
    "Z3.shape"
   ]
  },
  {
   "cell_type": "code",
   "execution_count": 12,
   "id": "22279bb5",
   "metadata": {},
   "outputs": [
    {
     "data": {
      "text/plain": [
       "tensor([[ 0.5584, -0.8794, -0.1937],\n",
       "        [-1.7953, -1.3583,  2.6675],\n",
       "        [-3.0768,  2.1801,  0.6935],\n",
       "        [-0.5167, -0.3005, -1.1267],\n",
       "        [-2.5305,  0.3543,  3.4874],\n",
       "        [-1.6289,  0.3478,  4.8258],\n",
       "        [-2.1246,  0.7282,  4.0486],\n",
       "        [ 0.2101, -1.0192,  0.7494],\n",
       "        [-2.4588, -0.0754,  3.2503],\n",
       "        [-0.7723, -1.1080,  1.6599]], grad_fn=<AddBackward0>)"
      ]
     },
     "execution_count": 12,
     "metadata": {},
     "output_type": "execute_result"
    }
   ],
   "source": [
    "Z3"
   ]
  },
  {
   "cell_type": "code",
   "execution_count": 13,
   "id": "7cd16428",
   "metadata": {},
   "outputs": [
    {
     "data": {
      "text/plain": [
       "tensor([[1.7479e+00, 4.1505e-01, 8.2394e-01],\n",
       "        [1.6608e-01, 2.5711e-01, 1.4405e+01],\n",
       "        [4.6104e-02, 8.8471e+00, 2.0007e+00],\n",
       "        [5.9651e-01, 7.4043e-01, 3.2409e-01],\n",
       "        [7.9623e-02, 1.4251e+00, 3.2700e+01],\n",
       "        [1.9615e-01, 1.4160e+00, 1.2469e+02],\n",
       "        [1.1948e-01, 2.0713e+00, 5.7315e+01],\n",
       "        [1.2338e+00, 3.6088e-01, 2.1157e+00],\n",
       "        [8.5536e-02, 9.2740e-01, 2.5797e+01],\n",
       "        [4.6195e-01, 3.3023e-01, 5.2586e+00]], grad_fn=<ExpBackward0>)"
      ]
     },
     "execution_count": 13,
     "metadata": {},
     "output_type": "execute_result"
    }
   ],
   "source": [
    "torch.exp( Z3 )"
   ]
  },
  {
   "cell_type": "code",
   "execution_count": 14,
   "id": "ed69b289",
   "metadata": {},
   "outputs": [
    {
     "data": {
      "text/plain": [
       "tensor([[  2.9869],\n",
       "        [ 14.8277],\n",
       "        [ 10.8939],\n",
       "        [  1.6610],\n",
       "        [ 34.2048],\n",
       "        [126.3044],\n",
       "        [ 59.5057],\n",
       "        [  3.7104],\n",
       "        [ 26.8103],\n",
       "        [  6.0508]], grad_fn=<SumBackward1>)"
      ]
     },
     "execution_count": 14,
     "metadata": {},
     "output_type": "execute_result"
    }
   ],
   "source": [
    "torch.sum( torch.exp( Z3 ), axis=1, keepdim=True )"
   ]
  },
  {
   "cell_type": "code",
   "execution_count": 15,
   "id": "7a9e2be8",
   "metadata": {},
   "outputs": [
    {
     "data": {
      "text/plain": [
       "tensor([[0.5852, 0.1390, 0.2759],\n",
       "        [0.0112, 0.0173, 0.9715],\n",
       "        [0.0042, 0.8121, 0.1837],\n",
       "        [0.3591, 0.4458, 0.1951],\n",
       "        [0.0023, 0.0417, 0.9560],\n",
       "        [0.0016, 0.0112, 0.9872],\n",
       "        [0.0020, 0.0348, 0.9632],\n",
       "        [0.3325, 0.0973, 0.5702],\n",
       "        [0.0032, 0.0346, 0.9622],\n",
       "        [0.0763, 0.0546, 0.8691]], grad_fn=<DivBackward0>)"
      ]
     },
     "execution_count": 15,
     "metadata": {},
     "output_type": "execute_result"
    }
   ],
   "source": [
    "torch.exp( Z3 ) / torch.sum( torch.exp( Z3 ), axis=1, keepdim=True )"
   ]
  },
  {
   "cell_type": "code",
   "execution_count": 16,
   "id": "d839cc65",
   "metadata": {},
   "outputs": [
    {
     "data": {
      "text/plain": [
       "(tensor([[ 0.5584, -0.8794, -0.1937],\n",
       "         [-1.7953, -1.3583,  2.6675],\n",
       "         [-3.0768,  2.1801,  0.6935],\n",
       "         [-0.5167, -0.3005, -1.1267],\n",
       "         [-2.5305,  0.3543,  3.4874],\n",
       "         [-1.6289,  0.3478,  4.8258],\n",
       "         [-2.1246,  0.7282,  4.0486],\n",
       "         [ 0.2101, -1.0192,  0.7494],\n",
       "         [-2.4588, -0.0754,  3.2503],\n",
       "         [-0.7723, -1.1080,  1.6599]], grad_fn=<AddBackward0>),\n",
       " tensor([[0.5852, 0.1390, 0.2759],\n",
       "         [0.0112, 0.0173, 0.9715],\n",
       "         [0.0042, 0.8121, 0.1837],\n",
       "         [0.3591, 0.4458, 0.1951],\n",
       "         [0.0023, 0.0417, 0.9560],\n",
       "         [0.0016, 0.0112, 0.9872],\n",
       "         [0.0020, 0.0348, 0.9632],\n",
       "         [0.3325, 0.0973, 0.5702],\n",
       "         [0.0032, 0.0346, 0.9622],\n",
       "         [0.0763, 0.0546, 0.8691]], grad_fn=<SoftmaxBackward0>))"
      ]
     },
     "execution_count": 16,
     "metadata": {},
     "output_type": "execute_result"
    }
   ],
   "source": [
    "logits = Z3\n",
    "y_pred = torch.softmax( logits, dim=1 )\n",
    "logits, y_pred"
   ]
  },
  {
   "cell_type": "code",
   "execution_count": 17,
   "id": "3fcbe734",
   "metadata": {},
   "outputs": [],
   "source": [
    "y_true = torch.randint(0, 3, size=(10,))"
   ]
  },
  {
   "cell_type": "code",
   "execution_count": 18,
   "id": "e9e78ea2",
   "metadata": {},
   "outputs": [
    {
     "data": {
      "text/plain": [
       "tensor([0, 0, 1, 0, 0, 1, 0, 1, 0, 2])"
      ]
     },
     "execution_count": 18,
     "metadata": {},
     "output_type": "execute_result"
    }
   ],
   "source": [
    "y_true"
   ]
  },
  {
   "cell_type": "code",
   "execution_count": 19,
   "id": "49d941e1",
   "metadata": {},
   "outputs": [],
   "source": [
    "y_one_hot = torch.nn.functional.one_hot(y_true)"
   ]
  },
  {
   "cell_type": "code",
   "execution_count": 20,
   "id": "0014b665",
   "metadata": {},
   "outputs": [
    {
     "data": {
      "text/plain": [
       "tensor([[1, 0, 0],\n",
       "        [1, 0, 0],\n",
       "        [0, 1, 0],\n",
       "        [1, 0, 0],\n",
       "        [1, 0, 0],\n",
       "        [0, 1, 0],\n",
       "        [1, 0, 0],\n",
       "        [0, 1, 0],\n",
       "        [1, 0, 0],\n",
       "        [0, 0, 1]])"
      ]
     },
     "execution_count": 20,
     "metadata": {},
     "output_type": "execute_result"
    }
   ],
   "source": [
    "y_one_hot"
   ]
  },
  {
   "cell_type": "code",
   "execution_count": 21,
   "id": "7fec3bf8",
   "metadata": {},
   "outputs": [
    {
     "data": {
      "text/plain": [
       "tensor(3.1242, grad_fn=<DivBackward0>)"
      ]
     },
     "execution_count": 21,
     "metadata": {},
     "output_type": "execute_result"
    }
   ],
   "source": [
    "- torch.sum( y_one_hot * torch.log( y_pred ) ) / N"
   ]
  },
  {
   "cell_type": "code",
   "execution_count": 22,
   "id": "dabaca9e",
   "metadata": {},
   "outputs": [
    {
     "data": {
      "text/plain": [
       "tensor(3.1242, grad_fn=<NllLossBackward0>)"
      ]
     },
     "execution_count": 22,
     "metadata": {},
     "output_type": "execute_result"
    }
   ],
   "source": [
    "torch.nn.functional.cross_entropy( logits, y_true )"
   ]
  },
  {
   "cell_type": "code",
   "execution_count": 23,
   "id": "86d5120e",
   "metadata": {},
   "outputs": [],
   "source": [
    "loss = torch.nn.functional.cross_entropy( logits, y_true )"
   ]
  },
  {
   "cell_type": "code",
   "execution_count": 24,
   "id": "a273ae53",
   "metadata": {},
   "outputs": [
    {
     "data": {
      "text/plain": [
       "tensor(3.1242, grad_fn=<NllLossBackward0>)"
      ]
     },
     "execution_count": 24,
     "metadata": {},
     "output_type": "execute_result"
    }
   ],
   "source": [
    "loss"
   ]
  },
  {
   "cell_type": "code",
   "execution_count": 25,
   "id": "f2a04090",
   "metadata": {},
   "outputs": [],
   "source": [
    "loss.backward()"
   ]
  },
  {
   "cell_type": "code",
   "execution_count": 26,
   "id": "91114e07",
   "metadata": {},
   "outputs": [
    {
     "data": {
      "text/plain": [
       "(tensor([[ 1.4035, -2.2152, -0.9855, -0.9205,  1.0756],\n",
       "         [-0.9570,  1.6001, -0.3097, -0.8879,  0.0403],\n",
       "         [ 0.1326, -0.0556, -0.6852, -1.4088,  0.4793],\n",
       "         [ 1.2443, -0.1473,  0.5796, -0.4653,  1.0097]], requires_grad=True),\n",
       " tensor([ 0.2329,  0.8816, -0.7020,  0.9628, -0.3865], requires_grad=True),\n",
       " tensor([[-0.3545, -0.0080, -0.3860,  0.9563,  0.2471,  0.3063, -1.2983],\n",
       "         [-1.2970, -0.5057, -1.6458,  0.1968, -1.3825, -0.9005, -0.4470],\n",
       "         [-0.1310,  0.6139,  0.0275, -0.9821, -0.7885, -0.8176,  0.4335],\n",
       "         [-0.9442,  0.0575, -1.0362,  0.6323, -0.2421,  0.5471, -0.0954],\n",
       "         [ 0.4113,  0.2134, -0.6386, -0.7371, -0.9913,  0.7911, -0.1967]],\n",
       "        requires_grad=True),\n",
       " tensor([-0.7583,  0.3518, -0.9175,  0.3400, -0.2231,  0.5747,  0.4061],\n",
       "        requires_grad=True))"
      ]
     },
     "execution_count": 26,
     "metadata": {},
     "output_type": "execute_result"
    }
   ],
   "source": [
    "W1, b1, W2, b2"
   ]
  },
  {
   "cell_type": "code",
   "execution_count": 27,
   "id": "7cb8c48d",
   "metadata": {},
   "outputs": [
    {
     "data": {
      "text/plain": [
       "(tensor([[ 0.4769,  0.1994, -0.2352,  0.0448,  0.1360],\n",
       "         [ 0.5662,  0.4435, -0.1862,  0.0737,  0.0736],\n",
       "         [-0.4754, -0.2196,  0.2003, -0.0033, -0.0213],\n",
       "         [ 0.1278, -0.0008, -0.0360, -0.0879, -0.1725]]),\n",
       " tensor([-0.6150, -0.0758,  0.2663,  0.1044,  0.2414]),\n",
       " tensor([[ 0.0502,  0.0255, -0.0780,  0.0016,  0.3463, -0.0446, -0.1474],\n",
       "         [-0.0902, -0.0580,  0.0915,  0.0213, -0.4526,  0.0735,  0.3299],\n",
       "         [-0.0606,  0.0108,  0.0742, -0.0187,  0.2718, -0.0194, -0.1259],\n",
       "         [ 0.0593, -0.0704, -0.0330,  0.0178, -0.2801,  0.0735,  0.5378],\n",
       "         [-0.0085,  0.0596, -0.0199, -0.0137,  0.3812, -0.0761, -0.5236]]),\n",
       " tensor([ 0.0523, -0.0931, -0.0634,  0.0241, -0.5177,  0.1069,  0.6550]))"
      ]
     },
     "execution_count": 27,
     "metadata": {},
     "output_type": "execute_result"
    }
   ],
   "source": [
    "W1.grad, b1.grad, W2.grad, b2.grad"
   ]
  }
 ],
 "metadata": {
  "kernelspec": {
   "display_name": "Python 3 (ipykernel)",
   "language": "python",
   "name": "python3"
  },
  "language_info": {
   "codemirror_mode": {
    "name": "ipython",
    "version": 3
   },
   "file_extension": ".py",
   "mimetype": "text/x-python",
   "name": "python",
   "nbconvert_exporter": "python",
   "pygments_lexer": "ipython3",
   "version": "3.9.12"
  }
 },
 "nbformat": 4,
 "nbformat_minor": 5
}
