{
 "cells": [
  {
   "cell_type": "markdown",
   "id": "72793ba9",
   "metadata": {},
   "source": [
    "<img src=\"data:image/png;base64,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\" width=\"150\" style=\"float:left\">\n",
    "<div style=\"clear:both\"></div>\n",
    "Rafał Nowak<br/>\n",
    "<a href=\"https://github.com/rnoxy\">github.com/rnoxy</a>"
   ]
  },
  {
   "cell_type": "markdown",
   "id": "ac796852",
   "metadata": {},
   "source": [
    "# Pytorch models (`nn.Module`)"
   ]
  },
  {
   "cell_type": "code",
   "execution_count": 1,
   "id": "ef3b32b8",
   "metadata": {},
   "outputs": [],
   "source": [
    "import torch"
   ]
  },
  {
   "cell_type": "markdown",
   "id": "807acb85",
   "metadata": {},
   "source": [
    "# Linear models"
   ]
  },
  {
   "cell_type": "markdown",
   "id": "b9c72f73",
   "metadata": {},
   "source": [
    "<img src=\"img/ann.svg\" width=\"50%\">"
   ]
  },
  {
   "cell_type": "code",
   "execution_count": 2,
   "id": "10adfa97",
   "metadata": {},
   "outputs": [
    {
     "data": {
      "text/plain": [
       "torch.Size([10, 4])"
      ]
     },
     "execution_count": 2,
     "metadata": {},
     "output_type": "execute_result"
    }
   ],
   "source": [
    "# Input\n",
    "X_input = torch.randn(10, 4) ### tensor,  N x 4\n",
    "X_input.shape"
   ]
  },
  {
   "cell_type": "markdown",
   "id": "c194bd11",
   "metadata": {},
   "source": [
    "## `torch.nn.Linear`"
   ]
  },
  {
   "cell_type": "code",
   "execution_count": 3,
   "id": "3bd951dd",
   "metadata": {},
   "outputs": [],
   "source": [
    "from torch.nn import Linear"
   ]
  },
  {
   "cell_type": "code",
   "execution_count": 4,
   "id": "4fbd5ef3",
   "metadata": {},
   "outputs": [],
   "source": [
    "model_1 = Linear(4, 5)\n",
    "model_2 = Linear(5, 7)\n",
    "model_3 = Linear(7, 3)\n",
    "\n",
    "def model(x):\n",
    "    x = model_1(x)\n",
    "    x = torch.tanh(x)\n",
    "    x = model_2(x)\n",
    "    x = torch.tanh(x)\n",
    "    logits = model_3(x)\n",
    "    return logits"
   ]
  },
  {
   "cell_type": "code",
   "execution_count": 5,
   "id": "9ce0ec90",
   "metadata": {},
   "outputs": [
    {
     "data": {
      "text/plain": [
       "tensor([[-0.2232,  0.0404, -0.0912],\n",
       "        [ 0.2082,  0.3690, -0.0370],\n",
       "        [ 0.1019,  0.2788, -0.0246],\n",
       "        [ 0.2656,  0.4020, -0.0071],\n",
       "        [ 0.1335,  0.1268,  0.1896],\n",
       "        [-0.3925, -0.2287,  0.1415],\n",
       "        [ 0.0502,  0.3030, -0.1084],\n",
       "        [-0.0103,  0.0464,  0.1387],\n",
       "        [ 0.1726,  0.3016, -0.0038],\n",
       "        [-0.2446,  0.0146, -0.0266]], grad_fn=<AddmmBackward0>)"
      ]
     },
     "execution_count": 5,
     "metadata": {},
     "output_type": "execute_result"
    }
   ],
   "source": [
    "model(X_input)"
   ]
  },
  {
   "cell_type": "code",
   "execution_count": 6,
   "id": "398d7a5d",
   "metadata": {},
   "outputs": [
    {
     "data": {
      "text/plain": [
       "tensor([[0.2905, 0.3781, 0.3315],\n",
       "        [0.3382, 0.3972, 0.2647],\n",
       "        [0.3252, 0.3882, 0.2866],\n",
       "        [0.3439, 0.3942, 0.2618],\n",
       "        [0.3278, 0.3256, 0.3467]], grad_fn=<SliceBackward0>)"
      ]
     },
     "execution_count": 6,
     "metadata": {},
     "output_type": "execute_result"
    }
   ],
   "source": [
    "torch.softmax( model(X_input), dim=1 )[:5]"
   ]
  },
  {
   "cell_type": "markdown",
   "id": "c3feca7d",
   "metadata": {},
   "source": [
    "## `torch.nn.Module`"
   ]
  },
  {
   "cell_type": "code",
   "execution_count": 7,
   "id": "7da70da3",
   "metadata": {},
   "outputs": [],
   "source": [
    "class MyModel(torch.nn.Module):\n",
    "    def __init__(self):\n",
    "        super().__init__()\n",
    "        self.model_1 = Linear(4, 5)\n",
    "        self.model_2 = Linear(5, 7)\n",
    "        self.model_3 = Linear(7, 3)"
   ]
  },
  {
   "cell_type": "code",
   "execution_count": 8,
   "id": "38b681df",
   "metadata": {},
   "outputs": [],
   "source": [
    "model = MyModel()"
   ]
  },
  {
   "cell_type": "code",
   "execution_count": 9,
   "id": "afbae938",
   "metadata": {},
   "outputs": [
    {
     "data": {
      "text/plain": [
       "[Parameter containing:\n",
       " tensor([[-0.2501, -0.2382,  0.0966,  0.1455],\n",
       "         [ 0.0045,  0.0778, -0.3297, -0.0694],\n",
       "         [-0.0651, -0.3212,  0.4831, -0.2630],\n",
       "         [ 0.2281,  0.2680,  0.1674, -0.4119],\n",
       "         [ 0.3236,  0.1853, -0.0383,  0.4128]], requires_grad=True),\n",
       " Parameter containing:\n",
       " tensor([-0.4814,  0.0899,  0.1293, -0.1786,  0.4391], requires_grad=True),\n",
       " Parameter containing:\n",
       " tensor([[ 0.0117,  0.0994,  0.0638, -0.0736, -0.2982],\n",
       "         [-0.1293, -0.4426,  0.0915,  0.0881,  0.1637],\n",
       "         [-0.1807, -0.3957,  0.0359,  0.0587, -0.3791],\n",
       "         [-0.0513, -0.0265,  0.3580, -0.3973,  0.1492],\n",
       "         [-0.3142, -0.0182,  0.0856,  0.4134, -0.3508],\n",
       "         [ 0.0838,  0.1784, -0.2986, -0.1688, -0.0129],\n",
       "         [-0.4130,  0.3724, -0.0811, -0.4219, -0.2072]], requires_grad=True),\n",
       " Parameter containing:\n",
       " tensor([-0.3803, -0.4185, -0.3999,  0.2503, -0.0925,  0.3735, -0.3685],\n",
       "        requires_grad=True),\n",
       " Parameter containing:\n",
       " tensor([[-0.2599,  0.1351,  0.2980, -0.0077, -0.2543,  0.0157, -0.0774],\n",
       "         [-0.0319,  0.0478,  0.1144, -0.0830, -0.3616,  0.3560, -0.0369],\n",
       "         [-0.1969, -0.0571, -0.0311, -0.1656,  0.3047, -0.2851,  0.1598]],\n",
       "        requires_grad=True),\n",
       " Parameter containing:\n",
       " tensor([-0.2858,  0.1830,  0.2199], requires_grad=True)]"
      ]
     },
     "execution_count": 9,
     "metadata": {},
     "output_type": "execute_result"
    }
   ],
   "source": [
    "list(p for p in model.parameters())"
   ]
  },
  {
   "cell_type": "code",
   "execution_count": 10,
   "id": "f0b296a2",
   "metadata": {},
   "outputs": [
    {
     "data": {
      "text/plain": [
       "[torch.Size([5, 4]),\n",
       " torch.Size([5]),\n",
       " torch.Size([7, 5]),\n",
       " torch.Size([7]),\n",
       " torch.Size([3, 7]),\n",
       " torch.Size([3])]"
      ]
     },
     "execution_count": 10,
     "metadata": {},
     "output_type": "execute_result"
    }
   ],
   "source": [
    "list(p.shape for p in model.parameters())"
   ]
  },
  {
   "cell_type": "code",
   "execution_count": 11,
   "id": "acdea112",
   "metadata": {},
   "outputs": [
    {
     "data": {
      "text/plain": [
       "91"
      ]
     },
     "execution_count": 11,
     "metadata": {},
     "output_type": "execute_result"
    }
   ],
   "source": [
    "sum(p.numel() for p in model.parameters())"
   ]
  },
  {
   "cell_type": "code",
   "execution_count": 13,
   "id": "9e1f9619",
   "metadata": {},
   "outputs": [],
   "source": [
    "# model(X_input) # --> NotImplementedError"
   ]
  },
  {
   "cell_type": "markdown",
   "id": "f904e8b1",
   "metadata": {},
   "source": [
    "### `forward(x)`"
   ]
  },
  {
   "cell_type": "code",
   "execution_count": 17,
   "id": "323d2d47",
   "metadata": {},
   "outputs": [],
   "source": [
    "class MyModel(torch.nn.Module):\n",
    "    def __init__(self):\n",
    "        super().__init__()\n",
    "        self.model_1 = Linear(4, 5)\n",
    "        self.model_2 = Linear(5, 7)\n",
    "        self.model_3 = Linear(7, 3)\n",
    "    \n",
    "    def forward(self, x):\n",
    "        x = self.model_1(x)\n",
    "        x = torch.tanh(x)\n",
    "        x = self.model_2(x)\n",
    "        x = torch.tanh(x)\n",
    "        x = self.model_3(x) # logits\n",
    "        return x"
   ]
  },
  {
   "cell_type": "code",
   "execution_count": 18,
   "id": "98646149",
   "metadata": {},
   "outputs": [],
   "source": [
    "model = MyModel()"
   ]
  },
  {
   "cell_type": "code",
   "execution_count": 19,
   "id": "3cc160a6",
   "metadata": {},
   "outputs": [
    {
     "data": {
      "text/plain": [
       "tensor([[-0.1078, -0.2213,  0.3109],\n",
       "        [-0.2863, -0.1555,  0.3096],\n",
       "        [ 0.0231, -0.5331,  0.1133],\n",
       "        [-0.0299, -0.4571,  0.1467],\n",
       "        [ 0.1102, -0.4696,  0.2299],\n",
       "        [ 0.2339, -0.5825,  0.1450],\n",
       "        [-0.1765, -0.2206,  0.2782],\n",
       "        [ 0.0843, -0.5875,  0.1477],\n",
       "        [ 0.1531, -0.7359,  0.0648],\n",
       "        [ 0.0805, -0.4202,  0.1711]], grad_fn=<AddmmBackward0>)"
      ]
     },
     "execution_count": 19,
     "metadata": {},
     "output_type": "execute_result"
    }
   ],
   "source": [
    "model(X_input)"
   ]
  },
  {
   "cell_type": "code",
   "execution_count": null,
   "id": "5b5eca11",
   "metadata": {},
   "outputs": [],
   "source": []
  }
 ],
 "metadata": {
  "kernelspec": {
   "display_name": "Python 3 (ipykernel)",
   "language": "python",
   "name": "python3"
  },
  "language_info": {
   "codemirror_mode": {
    "name": "ipython",
    "version": 3
   },
   "file_extension": ".py",
   "mimetype": "text/x-python",
   "name": "python",
   "nbconvert_exporter": "python",
   "pygments_lexer": "ipython3",
   "version": "3.9.12"
  },
  "widgets": {
   "application/vnd.jupyter.widget-state+json": {
    "state": {},
    "version_major": 2,
    "version_minor": 0
   }
  }
 },
 "nbformat": 4,
 "nbformat_minor": 5
}
