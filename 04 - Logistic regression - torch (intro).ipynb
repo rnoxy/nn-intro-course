{
 "cells": [
  {
   "cell_type": "markdown",
   "id": "067c72c9",
   "metadata": {},
   "source": [
    "<img src=\"data:image/png;base64,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\" width=\"150\" style=\"float:left\">\n",
    "<div style=\"clear:both\"></div>\n",
    "Rafał Nowak<br/>\n",
    "<a href=\"https://github.com/rnoxy\">github.com/rnoxy</a>"
   ]
  },
  {
   "cell_type": "code",
   "execution_count": 1,
   "id": "18853f06",
   "metadata": {},
   "outputs": [],
   "source": [
    "import sklearn\n",
    "import numpy as np\n",
    "import pandas as pd\n",
    "import plotly.express as px\n",
    "\n",
    "SEED = 1234\n",
    "np.random.seed(SEED)"
   ]
  },
  {
   "cell_type": "markdown",
   "id": "31f3000e",
   "metadata": {},
   "source": [
    "# Zbiór danych"
   ]
  },
  {
   "cell_type": "markdown",
   "id": "ccfe73c3",
   "metadata": {},
   "source": [
    "* Zbiór danych: https://archive.ics.uci.edu/ml/datasets/heart+disease\n",
    "* Plik z danymi: https://www.kaggle.com/arviinndn/heart-disease-prediction-uci-dataset/data\n"
   ]
  },
  {
   "cell_type": "code",
   "execution_count": 2,
   "id": "451ae7e2",
   "metadata": {},
   "outputs": [],
   "source": [
    "df = pd.read_csv('datasets/heart_disease_dataset_UCI.csv')"
   ]
  },
  {
   "cell_type": "code",
   "execution_count": 3,
   "id": "1635e717",
   "metadata": {},
   "outputs": [
    {
     "data": {
      "text/html": [
       "<div>\n",
       "<style scoped>\n",
       "    .dataframe tbody tr th:only-of-type {\n",
       "        vertical-align: middle;\n",
       "    }\n",
       "\n",
       "    .dataframe tbody tr th {\n",
       "        vertical-align: top;\n",
       "    }\n",
       "\n",
       "    .dataframe thead th {\n",
       "        text-align: right;\n",
       "    }\n",
       "</style>\n",
       "<table border=\"1\" class=\"dataframe\">\n",
       "  <thead>\n",
       "    <tr style=\"text-align: right;\">\n",
       "      <th></th>\n",
       "      <th>age</th>\n",
       "      <th>sex</th>\n",
       "      <th>cp</th>\n",
       "      <th>trestbps</th>\n",
       "      <th>chol</th>\n",
       "      <th>fbs</th>\n",
       "      <th>restecg</th>\n",
       "      <th>thalach</th>\n",
       "      <th>exang</th>\n",
       "      <th>oldpeak</th>\n",
       "      <th>slope</th>\n",
       "      <th>ca</th>\n",
       "      <th>thal</th>\n",
       "      <th>target</th>\n",
       "    </tr>\n",
       "  </thead>\n",
       "  <tbody>\n",
       "    <tr>\n",
       "      <th>0</th>\n",
       "      <td>63</td>\n",
       "      <td>1</td>\n",
       "      <td>3</td>\n",
       "      <td>145</td>\n",
       "      <td>233</td>\n",
       "      <td>1</td>\n",
       "      <td>0</td>\n",
       "      <td>150</td>\n",
       "      <td>0</td>\n",
       "      <td>2.3</td>\n",
       "      <td>0</td>\n",
       "      <td>0</td>\n",
       "      <td>1</td>\n",
       "      <td>1</td>\n",
       "    </tr>\n",
       "    <tr>\n",
       "      <th>1</th>\n",
       "      <td>37</td>\n",
       "      <td>1</td>\n",
       "      <td>2</td>\n",
       "      <td>130</td>\n",
       "      <td>250</td>\n",
       "      <td>0</td>\n",
       "      <td>1</td>\n",
       "      <td>187</td>\n",
       "      <td>0</td>\n",
       "      <td>3.5</td>\n",
       "      <td>0</td>\n",
       "      <td>0</td>\n",
       "      <td>2</td>\n",
       "      <td>1</td>\n",
       "    </tr>\n",
       "    <tr>\n",
       "      <th>2</th>\n",
       "      <td>41</td>\n",
       "      <td>0</td>\n",
       "      <td>1</td>\n",
       "      <td>130</td>\n",
       "      <td>204</td>\n",
       "      <td>0</td>\n",
       "      <td>0</td>\n",
       "      <td>172</td>\n",
       "      <td>0</td>\n",
       "      <td>1.4</td>\n",
       "      <td>2</td>\n",
       "      <td>0</td>\n",
       "      <td>2</td>\n",
       "      <td>1</td>\n",
       "    </tr>\n",
       "    <tr>\n",
       "      <th>3</th>\n",
       "      <td>56</td>\n",
       "      <td>1</td>\n",
       "      <td>1</td>\n",
       "      <td>120</td>\n",
       "      <td>236</td>\n",
       "      <td>0</td>\n",
       "      <td>1</td>\n",
       "      <td>178</td>\n",
       "      <td>0</td>\n",
       "      <td>0.8</td>\n",
       "      <td>2</td>\n",
       "      <td>0</td>\n",
       "      <td>2</td>\n",
       "      <td>1</td>\n",
       "    </tr>\n",
       "    <tr>\n",
       "      <th>4</th>\n",
       "      <td>57</td>\n",
       "      <td>0</td>\n",
       "      <td>0</td>\n",
       "      <td>120</td>\n",
       "      <td>354</td>\n",
       "      <td>0</td>\n",
       "      <td>1</td>\n",
       "      <td>163</td>\n",
       "      <td>1</td>\n",
       "      <td>0.6</td>\n",
       "      <td>2</td>\n",
       "      <td>0</td>\n",
       "      <td>2</td>\n",
       "      <td>1</td>\n",
       "    </tr>\n",
       "    <tr>\n",
       "      <th>...</th>\n",
       "      <td>...</td>\n",
       "      <td>...</td>\n",
       "      <td>...</td>\n",
       "      <td>...</td>\n",
       "      <td>...</td>\n",
       "      <td>...</td>\n",
       "      <td>...</td>\n",
       "      <td>...</td>\n",
       "      <td>...</td>\n",
       "      <td>...</td>\n",
       "      <td>...</td>\n",
       "      <td>...</td>\n",
       "      <td>...</td>\n",
       "      <td>...</td>\n",
       "    </tr>\n",
       "    <tr>\n",
       "      <th>298</th>\n",
       "      <td>57</td>\n",
       "      <td>0</td>\n",
       "      <td>0</td>\n",
       "      <td>140</td>\n",
       "      <td>241</td>\n",
       "      <td>0</td>\n",
       "      <td>1</td>\n",
       "      <td>123</td>\n",
       "      <td>1</td>\n",
       "      <td>0.2</td>\n",
       "      <td>1</td>\n",
       "      <td>0</td>\n",
       "      <td>3</td>\n",
       "      <td>0</td>\n",
       "    </tr>\n",
       "    <tr>\n",
       "      <th>299</th>\n",
       "      <td>45</td>\n",
       "      <td>1</td>\n",
       "      <td>3</td>\n",
       "      <td>110</td>\n",
       "      <td>264</td>\n",
       "      <td>0</td>\n",
       "      <td>1</td>\n",
       "      <td>132</td>\n",
       "      <td>0</td>\n",
       "      <td>1.2</td>\n",
       "      <td>1</td>\n",
       "      <td>0</td>\n",
       "      <td>3</td>\n",
       "      <td>0</td>\n",
       "    </tr>\n",
       "    <tr>\n",
       "      <th>300</th>\n",
       "      <td>68</td>\n",
       "      <td>1</td>\n",
       "      <td>0</td>\n",
       "      <td>144</td>\n",
       "      <td>193</td>\n",
       "      <td>1</td>\n",
       "      <td>1</td>\n",
       "      <td>141</td>\n",
       "      <td>0</td>\n",
       "      <td>3.4</td>\n",
       "      <td>1</td>\n",
       "      <td>2</td>\n",
       "      <td>3</td>\n",
       "      <td>0</td>\n",
       "    </tr>\n",
       "    <tr>\n",
       "      <th>301</th>\n",
       "      <td>57</td>\n",
       "      <td>1</td>\n",
       "      <td>0</td>\n",
       "      <td>130</td>\n",
       "      <td>131</td>\n",
       "      <td>0</td>\n",
       "      <td>1</td>\n",
       "      <td>115</td>\n",
       "      <td>1</td>\n",
       "      <td>1.2</td>\n",
       "      <td>1</td>\n",
       "      <td>1</td>\n",
       "      <td>3</td>\n",
       "      <td>0</td>\n",
       "    </tr>\n",
       "    <tr>\n",
       "      <th>302</th>\n",
       "      <td>57</td>\n",
       "      <td>0</td>\n",
       "      <td>1</td>\n",
       "      <td>130</td>\n",
       "      <td>236</td>\n",
       "      <td>0</td>\n",
       "      <td>0</td>\n",
       "      <td>174</td>\n",
       "      <td>0</td>\n",
       "      <td>0.0</td>\n",
       "      <td>1</td>\n",
       "      <td>1</td>\n",
       "      <td>2</td>\n",
       "      <td>0</td>\n",
       "    </tr>\n",
       "  </tbody>\n",
       "</table>\n",
       "<p>303 rows × 14 columns</p>\n",
       "</div>"
      ],
      "text/plain": [
       "     age  sex  cp  trestbps  chol  fbs  restecg  thalach  exang  oldpeak  \\\n",
       "0     63    1   3       145   233    1        0      150      0      2.3   \n",
       "1     37    1   2       130   250    0        1      187      0      3.5   \n",
       "2     41    0   1       130   204    0        0      172      0      1.4   \n",
       "3     56    1   1       120   236    0        1      178      0      0.8   \n",
       "4     57    0   0       120   354    0        1      163      1      0.6   \n",
       "..   ...  ...  ..       ...   ...  ...      ...      ...    ...      ...   \n",
       "298   57    0   0       140   241    0        1      123      1      0.2   \n",
       "299   45    1   3       110   264    0        1      132      0      1.2   \n",
       "300   68    1   0       144   193    1        1      141      0      3.4   \n",
       "301   57    1   0       130   131    0        1      115      1      1.2   \n",
       "302   57    0   1       130   236    0        0      174      0      0.0   \n",
       "\n",
       "     slope  ca  thal  target  \n",
       "0        0   0     1       1  \n",
       "1        0   0     2       1  \n",
       "2        2   0     2       1  \n",
       "3        2   0     2       1  \n",
       "4        2   0     2       1  \n",
       "..     ...  ..   ...     ...  \n",
       "298      1   0     3       0  \n",
       "299      1   0     3       0  \n",
       "300      1   2     3       0  \n",
       "301      1   1     3       0  \n",
       "302      1   1     2       0  \n",
       "\n",
       "[303 rows x 14 columns]"
      ]
     },
     "execution_count": 3,
     "metadata": {},
     "output_type": "execute_result"
    }
   ],
   "source": [
    "df"
   ]
  },
  {
   "cell_type": "code",
   "execution_count": 4,
   "id": "fe12cc06",
   "metadata": {},
   "outputs": [
    {
     "name": "stdout",
     "output_type": "stream",
     "text": [
      "X.shape = (303, 13)\n",
      "y.shape = (303, 1)\n"
     ]
    }
   ],
   "source": [
    "X = df.drop(columns=[\"target\"]).values\n",
    "y = df[\"target\"].values\n",
    "\n",
    "N, D = X.shape\n",
    "y = np.reshape(y, (N, 1))\n",
    "\n",
    "print(\"X.shape =\", X.shape)\n",
    "print(\"y.shape =\", y.shape)"
   ]
  },
  {
   "cell_type": "code",
   "execution_count": 5,
   "id": "f433ab98",
   "metadata": {},
   "outputs": [
    {
     "data": {
      "text/plain": [
       "array([[1],\n",
       "       [1],\n",
       "       [1],\n",
       "       [1],\n",
       "       [1],\n",
       "       [1],\n",
       "       [1],\n",
       "       [1],\n",
       "       [1],\n",
       "       [1],\n",
       "       [1],\n",
       "       [1],\n",
       "       [1],\n",
       "       [1],\n",
       "       [1],\n",
       "       [1],\n",
       "       [1],\n",
       "       [1],\n",
       "       [1],\n",
       "       [1],\n",
       "       [1],\n",
       "       [1],\n",
       "       [1],\n",
       "       [1],\n",
       "       [1],\n",
       "       [1],\n",
       "       [1],\n",
       "       [1],\n",
       "       [1],\n",
       "       [1],\n",
       "       [1],\n",
       "       [1],\n",
       "       [1],\n",
       "       [1],\n",
       "       [1],\n",
       "       [1],\n",
       "       [1],\n",
       "       [1],\n",
       "       [1],\n",
       "       [1],\n",
       "       [1],\n",
       "       [1],\n",
       "       [1],\n",
       "       [1],\n",
       "       [1],\n",
       "       [1],\n",
       "       [1],\n",
       "       [1],\n",
       "       [1],\n",
       "       [1],\n",
       "       [1],\n",
       "       [1],\n",
       "       [1],\n",
       "       [1],\n",
       "       [1],\n",
       "       [1],\n",
       "       [1],\n",
       "       [1],\n",
       "       [1],\n",
       "       [1],\n",
       "       [1],\n",
       "       [1],\n",
       "       [1],\n",
       "       [1],\n",
       "       [1],\n",
       "       [1],\n",
       "       [1],\n",
       "       [1],\n",
       "       [1],\n",
       "       [1],\n",
       "       [1],\n",
       "       [1],\n",
       "       [1],\n",
       "       [1],\n",
       "       [1],\n",
       "       [1],\n",
       "       [1],\n",
       "       [1],\n",
       "       [1],\n",
       "       [1],\n",
       "       [1],\n",
       "       [1],\n",
       "       [1],\n",
       "       [1],\n",
       "       [1],\n",
       "       [1],\n",
       "       [1],\n",
       "       [1],\n",
       "       [1],\n",
       "       [1],\n",
       "       [1],\n",
       "       [1],\n",
       "       [1],\n",
       "       [1],\n",
       "       [1],\n",
       "       [1],\n",
       "       [1],\n",
       "       [1],\n",
       "       [1],\n",
       "       [1],\n",
       "       [1],\n",
       "       [1],\n",
       "       [1],\n",
       "       [1],\n",
       "       [1],\n",
       "       [1],\n",
       "       [1],\n",
       "       [1],\n",
       "       [1],\n",
       "       [1],\n",
       "       [1],\n",
       "       [1],\n",
       "       [1],\n",
       "       [1],\n",
       "       [1],\n",
       "       [1],\n",
       "       [1],\n",
       "       [1],\n",
       "       [1],\n",
       "       [1],\n",
       "       [1],\n",
       "       [1],\n",
       "       [1],\n",
       "       [1],\n",
       "       [1],\n",
       "       [1],\n",
       "       [1],\n",
       "       [1],\n",
       "       [1],\n",
       "       [1],\n",
       "       [1],\n",
       "       [1],\n",
       "       [1],\n",
       "       [1],\n",
       "       [1],\n",
       "       [1],\n",
       "       [1],\n",
       "       [1],\n",
       "       [1],\n",
       "       [1],\n",
       "       [1],\n",
       "       [1],\n",
       "       [1],\n",
       "       [1],\n",
       "       [1],\n",
       "       [1],\n",
       "       [1],\n",
       "       [1],\n",
       "       [1],\n",
       "       [1],\n",
       "       [1],\n",
       "       [1],\n",
       "       [1],\n",
       "       [1],\n",
       "       [1],\n",
       "       [1],\n",
       "       [1],\n",
       "       [1],\n",
       "       [1],\n",
       "       [1],\n",
       "       [1],\n",
       "       [1],\n",
       "       [1],\n",
       "       [1],\n",
       "       [1],\n",
       "       [0],\n",
       "       [0],\n",
       "       [0],\n",
       "       [0],\n",
       "       [0],\n",
       "       [0],\n",
       "       [0],\n",
       "       [0],\n",
       "       [0],\n",
       "       [0],\n",
       "       [0],\n",
       "       [0],\n",
       "       [0],\n",
       "       [0],\n",
       "       [0],\n",
       "       [0],\n",
       "       [0],\n",
       "       [0],\n",
       "       [0],\n",
       "       [0],\n",
       "       [0],\n",
       "       [0],\n",
       "       [0],\n",
       "       [0],\n",
       "       [0],\n",
       "       [0],\n",
       "       [0],\n",
       "       [0],\n",
       "       [0],\n",
       "       [0],\n",
       "       [0],\n",
       "       [0],\n",
       "       [0],\n",
       "       [0],\n",
       "       [0],\n",
       "       [0],\n",
       "       [0],\n",
       "       [0],\n",
       "       [0],\n",
       "       [0],\n",
       "       [0],\n",
       "       [0],\n",
       "       [0],\n",
       "       [0],\n",
       "       [0],\n",
       "       [0],\n",
       "       [0],\n",
       "       [0],\n",
       "       [0],\n",
       "       [0],\n",
       "       [0],\n",
       "       [0],\n",
       "       [0],\n",
       "       [0],\n",
       "       [0],\n",
       "       [0],\n",
       "       [0],\n",
       "       [0],\n",
       "       [0],\n",
       "       [0],\n",
       "       [0],\n",
       "       [0],\n",
       "       [0],\n",
       "       [0],\n",
       "       [0],\n",
       "       [0],\n",
       "       [0],\n",
       "       [0],\n",
       "       [0],\n",
       "       [0],\n",
       "       [0],\n",
       "       [0],\n",
       "       [0],\n",
       "       [0],\n",
       "       [0],\n",
       "       [0],\n",
       "       [0],\n",
       "       [0],\n",
       "       [0],\n",
       "       [0],\n",
       "       [0],\n",
       "       [0],\n",
       "       [0],\n",
       "       [0],\n",
       "       [0],\n",
       "       [0],\n",
       "       [0],\n",
       "       [0],\n",
       "       [0],\n",
       "       [0],\n",
       "       [0],\n",
       "       [0],\n",
       "       [0],\n",
       "       [0],\n",
       "       [0],\n",
       "       [0],\n",
       "       [0],\n",
       "       [0],\n",
       "       [0],\n",
       "       [0],\n",
       "       [0],\n",
       "       [0],\n",
       "       [0],\n",
       "       [0],\n",
       "       [0],\n",
       "       [0],\n",
       "       [0],\n",
       "       [0],\n",
       "       [0],\n",
       "       [0],\n",
       "       [0],\n",
       "       [0],\n",
       "       [0],\n",
       "       [0],\n",
       "       [0],\n",
       "       [0],\n",
       "       [0],\n",
       "       [0],\n",
       "       [0],\n",
       "       [0],\n",
       "       [0],\n",
       "       [0],\n",
       "       [0],\n",
       "       [0],\n",
       "       [0],\n",
       "       [0],\n",
       "       [0],\n",
       "       [0],\n",
       "       [0],\n",
       "       [0],\n",
       "       [0],\n",
       "       [0],\n",
       "       [0],\n",
       "       [0],\n",
       "       [0],\n",
       "       [0],\n",
       "       [0],\n",
       "       [0]])"
      ]
     },
     "execution_count": 5,
     "metadata": {},
     "output_type": "execute_result"
    }
   ],
   "source": [
    "y"
   ]
  },
  {
   "cell_type": "code",
   "execution_count": 6,
   "id": "ca073a90",
   "metadata": {
    "scrolled": false
   },
   "outputs": [],
   "source": [
    "from sklearn.model_selection import train_test_split\n",
    "\n",
    "X_train, X_test, y_train, y_test = train_test_split(X, y, test_size=0.25, random_state=1234)"
   ]
  },
  {
   "cell_type": "code",
   "execution_count": 7,
   "id": "f8dfa7e5",
   "metadata": {},
   "outputs": [
    {
     "name": "stdout",
     "output_type": "stream",
     "text": [
      "X_train.shape = (227, 13)\n",
      "y_train.shape = (227, 1)\n"
     ]
    }
   ],
   "source": [
    "print(\"X_train.shape =\", X_train.shape)\n",
    "print(\"y_train.shape =\", y_train.shape)"
   ]
  },
  {
   "cell_type": "code",
   "execution_count": 8,
   "id": "7e5b6764",
   "metadata": {},
   "outputs": [
    {
     "name": "stdout",
     "output_type": "stream",
     "text": [
      "X_test.shape = (76, 13)\n",
      "y_test.shape = (76, 1)\n"
     ]
    }
   ],
   "source": [
    "print(\"X_test.shape =\", X_test.shape)\n",
    "print(\"y_test.shape =\", y_test.shape)"
   ]
  },
  {
   "cell_type": "code",
   "execution_count": 9,
   "id": "4f2de722",
   "metadata": {},
   "outputs": [
    {
     "data": {
      "text/plain": [
       "(227, 13)"
      ]
     },
     "execution_count": 9,
     "metadata": {},
     "output_type": "execute_result"
    }
   ],
   "source": [
    "N, D = X_train.shape\n",
    "N, D"
   ]
  },
  {
   "cell_type": "markdown",
   "id": "05ee0ff4",
   "metadata": {},
   "source": [
    "# Model - regresja logistyczna"
   ]
  },
  {
   "cell_type": "code",
   "execution_count": 10,
   "id": "722db81b",
   "metadata": {},
   "outputs": [],
   "source": [
    "w = np.random.randn(D,1)\n",
    "b = 0.0"
   ]
  },
  {
   "cell_type": "code",
   "execution_count": 11,
   "id": "fc5dacb7",
   "metadata": {},
   "outputs": [],
   "source": [
    "def sigmoid(z):\n",
    "    return 1.0 / (1.0 + np.exp(-z))\n",
    "\n",
    "def model(X, w, b):\n",
    "    logits = np.matmul(X, w) + b\n",
    "    return sigmoid(logits)"
   ]
  },
  {
   "cell_type": "code",
   "execution_count": 12,
   "id": "fc357a40",
   "metadata": {},
   "outputs": [
    {
     "data": {
      "text/plain": [
       "array([[3.10104409e-138],\n",
       "       [1.10088241e-108],\n",
       "       [4.19114251e-128],\n",
       "       [6.78652969e-139],\n",
       "       [1.65042745e-126],\n",
       "       [2.05101880e-136],\n",
       "       [1.05318548e-144],\n",
       "       [1.16376706e-113],\n",
       "       [7.02504314e-113],\n",
       "       [2.98876259e-103],\n",
       "       [2.43905059e-139],\n",
       "       [4.18758761e-140],\n",
       "       [3.10977550e-129],\n",
       "       [9.91698076e-109],\n",
       "       [1.67424222e-150],\n",
       "       [1.02402841e-092],\n",
       "       [1.73880517e-134],\n",
       "       [2.69158273e-105],\n",
       "       [1.14389926e-111],\n",
       "       [2.12460653e-104],\n",
       "       [3.82344292e-150],\n",
       "       [1.81454025e-107],\n",
       "       [6.06413650e-128],\n",
       "       [2.73648695e-109],\n",
       "       [1.61531243e-096],\n",
       "       [3.70308590e-136],\n",
       "       [4.55470927e-111],\n",
       "       [1.70876965e-115],\n",
       "       [4.16714659e-116],\n",
       "       [4.25528275e-116],\n",
       "       [4.61645923e-109],\n",
       "       [2.09353340e-116],\n",
       "       [1.20495744e-091],\n",
       "       [2.80452257e-120],\n",
       "       [4.82315515e-119],\n",
       "       [1.78359736e-111],\n",
       "       [8.70147959e-125],\n",
       "       [1.12083553e-120],\n",
       "       [4.71556277e-154],\n",
       "       [7.76217909e-111],\n",
       "       [5.08680367e-128],\n",
       "       [9.14277994e-106],\n",
       "       [9.57255718e-114],\n",
       "       [5.50182840e-124],\n",
       "       [5.77314819e-160],\n",
       "       [9.73879547e-129],\n",
       "       [6.87984130e-097],\n",
       "       [1.80689280e-106],\n",
       "       [1.93526242e-147],\n",
       "       [2.76034309e-109],\n",
       "       [1.69488758e-129],\n",
       "       [1.54312689e-114],\n",
       "       [5.35705625e-128],\n",
       "       [2.06911255e-102],\n",
       "       [2.22844413e-140],\n",
       "       [2.85736554e-136],\n",
       "       [7.27277169e-110],\n",
       "       [2.96291844e-161],\n",
       "       [7.44308865e-118],\n",
       "       [4.66827816e-117],\n",
       "       [1.42690676e-115],\n",
       "       [6.49527247e-144],\n",
       "       [4.71224641e-133],\n",
       "       [2.58333153e-140],\n",
       "       [1.91641927e-127],\n",
       "       [7.69499762e-114],\n",
       "       [3.85758122e-137],\n",
       "       [4.78428567e-127],\n",
       "       [1.37834724e-143],\n",
       "       [5.27509118e-095],\n",
       "       [6.53563283e-128],\n",
       "       [7.56473404e-122],\n",
       "       [8.71215984e-130],\n",
       "       [1.89832339e-123],\n",
       "       [7.81155076e-141],\n",
       "       [4.49094454e-126],\n",
       "       [2.02991816e-111],\n",
       "       [1.08012328e-106],\n",
       "       [1.03153292e-144],\n",
       "       [3.02178870e-124],\n",
       "       [6.34173561e-115],\n",
       "       [4.25345489e-108],\n",
       "       [4.13835105e-085],\n",
       "       [1.31939972e-103],\n",
       "       [1.92971128e-141],\n",
       "       [4.50190677e-132],\n",
       "       [1.32825448e-123],\n",
       "       [6.62016767e-124],\n",
       "       [5.92484534e-130],\n",
       "       [2.96501937e-117],\n",
       "       [2.17555208e-124],\n",
       "       [1.69814321e-109],\n",
       "       [3.01438603e-149],\n",
       "       [1.79616532e-137],\n",
       "       [1.70106843e-109],\n",
       "       [8.16632643e-150],\n",
       "       [2.75062938e-120],\n",
       "       [2.10878784e-124],\n",
       "       [1.38062334e-143],\n",
       "       [6.04486439e-155],\n",
       "       [7.22233740e-114],\n",
       "       [2.65868263e-146],\n",
       "       [2.51477207e-138],\n",
       "       [1.78443840e-131],\n",
       "       [6.76006521e-119],\n",
       "       [1.09539455e-141],\n",
       "       [2.29306398e-118],\n",
       "       [1.20322462e-095],\n",
       "       [1.75502414e-115],\n",
       "       [3.43335125e-130],\n",
       "       [1.30961164e-117],\n",
       "       [1.46273021e-115],\n",
       "       [1.31330216e-145],\n",
       "       [3.78209862e-083],\n",
       "       [1.35245434e-123],\n",
       "       [8.76177283e-120],\n",
       "       [1.44710463e-116],\n",
       "       [5.50280434e-131],\n",
       "       [1.50266204e-121],\n",
       "       [5.25908909e-117],\n",
       "       [5.70372016e-119],\n",
       "       [1.23401223e-138],\n",
       "       [8.21149476e-140],\n",
       "       [2.87507938e-123],\n",
       "       [7.62908281e-106],\n",
       "       [1.04829508e-118],\n",
       "       [3.25319203e-142],\n",
       "       [3.65512646e-117],\n",
       "       [1.68229852e-123],\n",
       "       [5.34539128e-179],\n",
       "       [3.03753129e-129],\n",
       "       [2.26556729e-095],\n",
       "       [1.75158092e-153],\n",
       "       [8.90050623e-127],\n",
       "       [1.10900364e-125],\n",
       "       [1.80568460e-122],\n",
       "       [3.17835668e-129],\n",
       "       [3.47773337e-127],\n",
       "       [1.18567541e-129],\n",
       "       [1.18634009e-158],\n",
       "       [9.69243888e-132],\n",
       "       [1.98704147e-151],\n",
       "       [3.39441209e-141],\n",
       "       [5.44679888e-122],\n",
       "       [8.26076866e-100],\n",
       "       [2.21079302e-119],\n",
       "       [3.47959696e-121],\n",
       "       [1.43038007e-114],\n",
       "       [5.51688665e-098],\n",
       "       [1.93804364e-082],\n",
       "       [8.66753255e-120],\n",
       "       [6.74079785e-113],\n",
       "       [1.42928630e-120],\n",
       "       [3.29101179e-135],\n",
       "       [3.65241937e-142],\n",
       "       [1.43226524e-159],\n",
       "       [3.21229066e-177],\n",
       "       [3.43556947e-127],\n",
       "       [3.21117307e-106],\n",
       "       [3.32824051e-090],\n",
       "       [5.75971179e-092],\n",
       "       [3.93196682e-114],\n",
       "       [1.49530937e-126],\n",
       "       [3.03388602e-139],\n",
       "       [8.42766942e-121],\n",
       "       [1.18642066e-114],\n",
       "       [6.45816060e-143],\n",
       "       [2.17966612e-135],\n",
       "       [6.78432697e-131],\n",
       "       [4.84671257e-127],\n",
       "       [7.62355669e-127],\n",
       "       [7.98476394e-120],\n",
       "       [2.69598483e-107],\n",
       "       [6.27390118e-222],\n",
       "       [1.22859209e-136],\n",
       "       [3.33359526e-102],\n",
       "       [7.70851067e-131],\n",
       "       [2.77343240e-126],\n",
       "       [2.03707133e-121],\n",
       "       [1.42244348e-138],\n",
       "       [1.86034610e-128],\n",
       "       [5.84871905e-106],\n",
       "       [9.60181000e-134],\n",
       "       [1.19149799e-155],\n",
       "       [1.61291243e-153],\n",
       "       [6.85073502e-122],\n",
       "       [2.05914533e-113],\n",
       "       [1.20764463e-123],\n",
       "       [8.68487109e-119],\n",
       "       [2.66829253e-115],\n",
       "       [7.01927547e-126],\n",
       "       [1.38298842e-173],\n",
       "       [2.73430227e-123],\n",
       "       [2.16236339e-124],\n",
       "       [2.41338173e-150],\n",
       "       [1.90653258e-124],\n",
       "       [6.65921853e-119],\n",
       "       [1.84168764e-139],\n",
       "       [5.50186402e-125],\n",
       "       [5.49281985e-127],\n",
       "       [4.32414753e-127],\n",
       "       [1.25408885e-078],\n",
       "       [3.96948627e-114],\n",
       "       [1.70749908e-114],\n",
       "       [2.97705309e-134],\n",
       "       [4.94752900e-155],\n",
       "       [1.02417069e-129],\n",
       "       [1.96748729e-123],\n",
       "       [8.27313524e-123],\n",
       "       [1.17614465e-126],\n",
       "       [3.70309503e-176],\n",
       "       [3.29189089e-133],\n",
       "       [2.47190989e-110],\n",
       "       [2.14862219e-144],\n",
       "       [6.30806981e-111],\n",
       "       [3.39731075e-123],\n",
       "       [9.66359953e-112],\n",
       "       [2.11325225e-119],\n",
       "       [7.79686172e-109],\n",
       "       [9.74027459e-096],\n",
       "       [3.21017723e-152],\n",
       "       [1.12910970e-107],\n",
       "       [4.36302741e-122],\n",
       "       [1.14137054e-104],\n",
       "       [1.59418405e-096],\n",
       "       [3.70772701e-103],\n",
       "       [4.53250727e-126]])"
      ]
     },
     "execution_count": 12,
     "metadata": {},
     "output_type": "execute_result"
    }
   ],
   "source": [
    "model(X_train, w, b)"
   ]
  },
  {
   "cell_type": "markdown",
   "id": "28045907",
   "metadata": {},
   "source": [
    "# Normalizacja danych (!!!)"
   ]
  },
  {
   "cell_type": "code",
   "execution_count": 13,
   "id": "02775c32",
   "metadata": {},
   "outputs": [
    {
     "data": {
      "text/plain": [
       "array([5.47224670e+01, 6.82819383e-01, 9.51541850e-01, 1.31955947e+02,\n",
       "       2.47762115e+02, 1.49779736e-01, 5.19823789e-01, 1.48594714e+02,\n",
       "       3.39207048e-01, 1.11762115e+00, 1.37004405e+00, 6.47577093e-01,\n",
       "       2.27753304e+00])"
      ]
     },
     "execution_count": 13,
     "metadata": {},
     "output_type": "execute_result"
    }
   ],
   "source": [
    "X_mean = np.mean(X_train, axis=0)\n",
    "X_mean"
   ]
  },
  {
   "cell_type": "code",
   "execution_count": 14,
   "id": "ea5cceb7",
   "metadata": {},
   "outputs": [
    {
     "data": {
      "text/plain": [
       "array([ 8.78663267,  0.46537842,  1.0419969 , 17.1386622 , 55.03603762,\n",
       "        0.35685539,  0.52539389, 23.4121014 ,  0.4734402 ,  1.19645128,\n",
       "        0.61878202,  0.95217388,  0.63494222])"
      ]
     },
     "execution_count": 14,
     "metadata": {},
     "output_type": "execute_result"
    }
   ],
   "source": [
    "X_std = np.std(X_train, axis=0)\n",
    "X_std"
   ]
  },
  {
   "cell_type": "code",
   "execution_count": 15,
   "id": "bc490fdd",
   "metadata": {},
   "outputs": [],
   "source": [
    "def normalize(x, mean, sigma):\n",
    "    y = (x-mean)/sigma\n",
    "    return y\n",
    "\n",
    "X_train_normalized = normalize(X_train, X_mean, X_std)"
   ]
  },
  {
   "cell_type": "code",
   "execution_count": 16,
   "id": "dd62d325",
   "metadata": {},
   "outputs": [
    {
     "data": {
      "text/plain": [
       "array([ 2.61660493e-16, -9.78170066e-19, -1.76070612e-17, -8.41226257e-17,\n",
       "       -1.71424304e-16, -2.03948459e-16, -1.49660020e-16,  5.04980296e-16,\n",
       "       -1.21293088e-16,  3.24752462e-16, -3.08123571e-17, -1.24961226e-16,\n",
       "       -2.48455197e-16])"
      ]
     },
     "execution_count": 16,
     "metadata": {},
     "output_type": "execute_result"
    }
   ],
   "source": [
    "np.mean(X_train_normalized, axis=0)"
   ]
  },
  {
   "cell_type": "code",
   "execution_count": 17,
   "id": "9f59608e",
   "metadata": {},
   "outputs": [
    {
     "data": {
      "text/plain": [
       "array([1., 1., 1., 1., 1., 1., 1., 1., 1., 1., 1., 1., 1.])"
      ]
     },
     "execution_count": 17,
     "metadata": {},
     "output_type": "execute_result"
    }
   ],
   "source": [
    "np.std(X_train_normalized, axis=0)"
   ]
  },
  {
   "cell_type": "code",
   "execution_count": 18,
   "id": "7e53f4ca",
   "metadata": {},
   "outputs": [
    {
     "data": {
      "text/plain": [
       "array([[2.64636790e-01],\n",
       "       [5.06091246e-02],\n",
       "       [9.98475209e-01],\n",
       "       [3.53574324e-04],\n",
       "       [1.51988900e-02],\n",
       "       [4.52531890e-01],\n",
       "       [7.16998016e-04],\n",
       "       [9.98688866e-01],\n",
       "       [9.98341539e-01],\n",
       "       [8.00083717e-01],\n",
       "       [2.31938225e-02],\n",
       "       [1.39031694e-01],\n",
       "       [9.25997264e-01],\n",
       "       [5.87540475e-01],\n",
       "       [9.23571610e-01],\n",
       "       [9.99813033e-01],\n",
       "       [8.73513608e-01],\n",
       "       [9.75337603e-01],\n",
       "       [9.05357607e-01],\n",
       "       [9.19491656e-01],\n",
       "       [6.36239565e-02],\n",
       "       [3.20889274e-01],\n",
       "       [2.61314874e-01],\n",
       "       [2.17003974e-01],\n",
       "       [1.20006858e-02],\n",
       "       [8.20374898e-01],\n",
       "       [6.67024898e-02],\n",
       "       [3.96426720e-01],\n",
       "       [9.99900067e-01],\n",
       "       [8.92683423e-01],\n",
       "       [5.89535389e-03],\n",
       "       [9.25792451e-01],\n",
       "       [9.80752869e-01],\n",
       "       [9.92457706e-01],\n",
       "       [3.02073676e-01],\n",
       "       [9.64184443e-01],\n",
       "       [8.97318510e-01],\n",
       "       [9.15112871e-01],\n",
       "       [5.30063902e-01],\n",
       "       [6.52322869e-03],\n",
       "       [6.87516175e-01],\n",
       "       [8.31079452e-01],\n",
       "       [3.02432390e-04],\n",
       "       [2.64945208e-01],\n",
       "       [2.16320526e-01],\n",
       "       [2.06503477e-01],\n",
       "       [4.62753602e-01],\n",
       "       [2.10097571e-02],\n",
       "       [9.31419622e-01],\n",
       "       [5.12781737e-01],\n",
       "       [9.78670723e-01],\n",
       "       [6.33437012e-01],\n",
       "       [9.92607463e-01],\n",
       "       [1.92113085e-02],\n",
       "       [7.84551223e-01],\n",
       "       [7.44764817e-03],\n",
       "       [2.39940394e-01],\n",
       "       [7.56704831e-01],\n",
       "       [8.89765809e-01],\n",
       "       [8.70668663e-01],\n",
       "       [1.06327195e-01],\n",
       "       [9.93382445e-01],\n",
       "       [9.59804237e-01],\n",
       "       [2.23691022e-01],\n",
       "       [1.25503670e-01],\n",
       "       [9.64170150e-01],\n",
       "       [3.98278802e-01],\n",
       "       [1.15223912e-01],\n",
       "       [9.20301547e-01],\n",
       "       [4.90148539e-03],\n",
       "       [1.98409141e-01],\n",
       "       [6.82346682e-01],\n",
       "       [9.93103178e-01],\n",
       "       [3.61915354e-01],\n",
       "       [5.21349324e-02],\n",
       "       [1.13822888e-01],\n",
       "       [1.79119540e-05],\n",
       "       [9.98305761e-01],\n",
       "       [6.64731496e-03],\n",
       "       [7.40170127e-01],\n",
       "       [4.81770110e-02],\n",
       "       [7.19847026e-01],\n",
       "       [9.93637196e-01],\n",
       "       [8.31498417e-01],\n",
       "       [9.38651908e-01],\n",
       "       [1.42945086e-02],\n",
       "       [3.05531580e-01],\n",
       "       [6.86469682e-01],\n",
       "       [1.05684585e-01],\n",
       "       [9.96508608e-01],\n",
       "       [2.10980137e-01],\n",
       "       [4.17216058e-01],\n",
       "       [7.27110420e-03],\n",
       "       [7.41978764e-03],\n",
       "       [9.85330394e-02],\n",
       "       [1.00812240e-02],\n",
       "       [3.46654538e-01],\n",
       "       [6.94700693e-01],\n",
       "       [1.93850209e-01],\n",
       "       [2.68592027e-02],\n",
       "       [8.10901547e-01],\n",
       "       [9.98929876e-01],\n",
       "       [7.29611466e-02],\n",
       "       [5.40264142e-01],\n",
       "       [6.77833861e-01],\n",
       "       [4.27526132e-01],\n",
       "       [6.24833479e-01],\n",
       "       [9.97592514e-01],\n",
       "       [9.98464646e-01],\n",
       "       [1.16275345e-01],\n",
       "       [7.29753847e-01],\n",
       "       [9.55913560e-01],\n",
       "       [5.39495642e-01],\n",
       "       [9.99984829e-01],\n",
       "       [1.70807758e-03],\n",
       "       [1.74002711e-03],\n",
       "       [9.84025603e-01],\n",
       "       [9.77584286e-01],\n",
       "       [7.78276437e-01],\n",
       "       [9.44447459e-01],\n",
       "       [9.98526380e-01],\n",
       "       [2.91317890e-02],\n",
       "       [8.98078625e-01],\n",
       "       [5.86429281e-02],\n",
       "       [2.47254212e-01],\n",
       "       [9.63958382e-01],\n",
       "       [1.16205783e-04],\n",
       "       [1.48004684e-03],\n",
       "       [1.94272624e-01],\n",
       "       [4.20577839e-03],\n",
       "       [1.67305588e-03],\n",
       "       [6.09767865e-01],\n",
       "       [1.20490318e-01],\n",
       "       [2.58371256e-01],\n",
       "       [2.63925419e-03],\n",
       "       [2.63247254e-01],\n",
       "       [7.88626072e-01],\n",
       "       [9.51391066e-01],\n",
       "       [8.20733580e-01],\n",
       "       [6.10199410e-01],\n",
       "       [9.98827753e-01],\n",
       "       [2.40218592e-01],\n",
       "       [9.33877898e-02],\n",
       "       [2.32641067e-02],\n",
       "       [8.56229585e-01],\n",
       "       [8.37340865e-01],\n",
       "       [1.08628055e-01],\n",
       "       [3.49015823e-01],\n",
       "       [7.41552040e-03],\n",
       "       [7.90811754e-01],\n",
       "       [9.78974375e-01],\n",
       "       [8.24439219e-01],\n",
       "       [3.88611095e-01],\n",
       "       [5.93819315e-01],\n",
       "       [9.98352953e-01],\n",
       "       [6.18143142e-01],\n",
       "       [9.83982797e-01],\n",
       "       [1.02123289e-01],\n",
       "       [9.18313873e-01],\n",
       "       [5.82495105e-01],\n",
       "       [2.54814636e-02],\n",
       "       [9.87268508e-01],\n",
       "       [9.82702566e-01],\n",
       "       [9.00259711e-01],\n",
       "       [8.23887548e-01],\n",
       "       [3.03965601e-02],\n",
       "       [7.18879394e-01],\n",
       "       [8.88394183e-01],\n",
       "       [9.84249753e-01],\n",
       "       [7.61697534e-01],\n",
       "       [3.69335796e-01],\n",
       "       [4.17917242e-01],\n",
       "       [6.90087521e-02],\n",
       "       [6.24196263e-02],\n",
       "       [1.95965313e-02],\n",
       "       [9.41937795e-01],\n",
       "       [6.73336036e-01],\n",
       "       [8.26177873e-01],\n",
       "       [8.64415736e-03],\n",
       "       [4.37305495e-03],\n",
       "       [9.87797159e-01],\n",
       "       [9.41199278e-01],\n",
       "       [3.98914500e-02],\n",
       "       [9.86814708e-01],\n",
       "       [4.70246725e-01],\n",
       "       [2.23988723e-01],\n",
       "       [2.94251339e-01],\n",
       "       [7.68109554e-01],\n",
       "       [8.53164798e-01],\n",
       "       [8.66853594e-01],\n",
       "       [9.90109645e-01],\n",
       "       [9.68010500e-03],\n",
       "       [7.97556771e-03],\n",
       "       [4.77512701e-02],\n",
       "       [1.64529291e-01],\n",
       "       [3.30401755e-02],\n",
       "       [4.96318872e-01],\n",
       "       [9.94157725e-01],\n",
       "       [1.99193416e-01],\n",
       "       [1.86864583e-01],\n",
       "       [4.93236834e-01],\n",
       "       [8.21250586e-01],\n",
       "       [8.79368420e-01],\n",
       "       [9.13326792e-01],\n",
       "       [8.63917430e-01],\n",
       "       [1.68596444e-05],\n",
       "       [5.67408970e-02],\n",
       "       [9.88951293e-01],\n",
       "       [3.80637363e-01],\n",
       "       [9.48299675e-01],\n",
       "       [7.30680813e-02],\n",
       "       [5.06220088e-01],\n",
       "       [5.92659667e-01],\n",
       "       [8.04535516e-01],\n",
       "       [9.96607059e-01],\n",
       "       [7.57965500e-02],\n",
       "       [9.95090562e-01],\n",
       "       [9.61726351e-01],\n",
       "       [3.08904411e-03],\n",
       "       [1.14316817e-03],\n",
       "       [8.96543126e-01],\n",
       "       [9.97918239e-01],\n",
       "       [7.96542858e-01],\n",
       "       [2.58800579e-04],\n",
       "       [9.65238788e-01],\n",
       "       [1.03223276e-04],\n",
       "       [7.06517604e-03]])"
      ]
     },
     "execution_count": 18,
     "metadata": {},
     "output_type": "execute_result"
    }
   ],
   "source": [
    "model(X_train_normalized, w, b)"
   ]
  },
  {
   "cell_type": "markdown",
   "id": "50a59906",
   "metadata": {},
   "source": [
    "# Trenowanie modelu"
   ]
  },
  {
   "cell_type": "code",
   "execution_count": 19,
   "id": "c5b2aa24",
   "metadata": {},
   "outputs": [],
   "source": [
    "def cross_entropy(y_pred, y):\n",
    "    return -np.mean(y*np.log(y_pred) + (1-y)*np.log(1-y_pred))\n",
    "\n",
    "def compute_cost(X, y, w, b):\n",
    "    y_pred = model(X, w, b)\n",
    "    return cross_entropy(y_pred, y)"
   ]
  },
  {
   "cell_type": "code",
   "execution_count": 20,
   "id": "2f80156d",
   "metadata": {},
   "outputs": [
    {
     "data": {
      "text/plain": [
       "0.9359660736461913"
      ]
     },
     "execution_count": 20,
     "metadata": {},
     "output_type": "execute_result"
    }
   ],
   "source": [
    "y_pred = model(X_train_normalized, w, b)\n",
    "cross_entropy(y_pred, y_train)"
   ]
  },
  {
   "cell_type": "code",
   "execution_count": 21,
   "id": "725b6232",
   "metadata": {},
   "outputs": [],
   "source": [
    "def compute_gradient(X, y, w, b):\n",
    "    N = len(X)\n",
    "    y_pred = model(X, w, b)\n",
    "    error = y_pred - y\n",
    "    dw = 1/N * np.matmul(X.T, error)\n",
    "    db = 1/N * np.sum(error)\n",
    "    return dw, db"
   ]
  },
  {
   "cell_type": "code",
   "execution_count": 22,
   "id": "9fee5178",
   "metadata": {},
   "outputs": [
    {
     "data": {
      "text/plain": [
       "((13, 1), ())"
      ]
     },
     "execution_count": 22,
     "metadata": {},
     "output_type": "execute_result"
    }
   ],
   "source": [
    "dw, db = compute_gradient(X_train_normalized, y_train, w, b)\n",
    "dw.shape, db.shape"
   ]
  },
  {
   "cell_type": "code",
   "execution_count": 23,
   "id": "695427da",
   "metadata": {},
   "outputs": [
    {
     "data": {
      "text/plain": [
       "array([[ 0.14053489],\n",
       "       [ 0.04324603],\n",
       "       [-0.06508423],\n",
       "       [ 0.04016067],\n",
       "       [-0.00817806],\n",
       "       [ 0.07525872],\n",
       "       [ 0.06854708],\n",
       "       [-0.1623787 ],\n",
       "       [ 0.13002419],\n",
       "       [-0.02925508],\n",
       "       [ 0.02213148],\n",
       "       [ 0.25165263],\n",
       "       [ 0.14471317]])"
      ]
     },
     "execution_count": 23,
     "metadata": {},
     "output_type": "execute_result"
    }
   ],
   "source": [
    "dw"
   ]
  },
  {
   "cell_type": "code",
   "execution_count": 24,
   "id": "c6581fdf",
   "metadata": {},
   "outputs": [
    {
     "data": {
      "text/plain": [
       "-0.027680573798261006"
      ]
     },
     "execution_count": 24,
     "metadata": {},
     "output_type": "execute_result"
    }
   ],
   "source": [
    "db"
   ]
  },
  {
   "cell_type": "code",
   "execution_count": null,
   "id": "aa352e75",
   "metadata": {},
   "outputs": [],
   "source": []
  },
  {
   "cell_type": "code",
   "execution_count": 25,
   "id": "fcb168d3",
   "metadata": {},
   "outputs": [],
   "source": [
    "import torch\n",
    "\n",
    "X_torch = torch.tensor(X_train_normalized)"
   ]
  },
  {
   "cell_type": "code",
   "execution_count": 26,
   "id": "c2c7db3a",
   "metadata": {},
   "outputs": [
    {
     "data": {
      "text/plain": [
       "torch.Size([227, 13])"
      ]
     },
     "execution_count": 26,
     "metadata": {},
     "output_type": "execute_result"
    }
   ],
   "source": [
    "X_torch.shape"
   ]
  },
  {
   "cell_type": "code",
   "execution_count": 27,
   "id": "7dbf8e55",
   "metadata": {},
   "outputs": [
    {
     "data": {
      "text/plain": [
       "torch.Size([227, 1])"
      ]
     },
     "execution_count": 27,
     "metadata": {},
     "output_type": "execute_result"
    }
   ],
   "source": [
    "y_torch = torch.tensor(y_train, dtype=torch.double)\n",
    "y_torch.shape"
   ]
  },
  {
   "cell_type": "code",
   "execution_count": 28,
   "id": "3fcffdb8",
   "metadata": {},
   "outputs": [
    {
     "data": {
      "text/plain": [
       "torch.Size([13, 1])"
      ]
     },
     "execution_count": 28,
     "metadata": {},
     "output_type": "execute_result"
    }
   ],
   "source": [
    "w_torch = torch.tensor(w)\n",
    "w_torch.shape"
   ]
  },
  {
   "cell_type": "code",
   "execution_count": 29,
   "id": "4b708520",
   "metadata": {},
   "outputs": [],
   "source": [
    "b_torch = torch.tensor(b)"
   ]
  },
  {
   "cell_type": "code",
   "execution_count": 30,
   "id": "5157e96e",
   "metadata": {},
   "outputs": [
    {
     "data": {
      "text/plain": [
       "array([[ 0.47143516],\n",
       "       [-1.19097569],\n",
       "       [ 1.43270697],\n",
       "       [-0.3126519 ],\n",
       "       [-0.72058873],\n",
       "       [ 0.88716294],\n",
       "       [ 0.85958841],\n",
       "       [-0.6365235 ],\n",
       "       [ 0.01569637],\n",
       "       [-2.24268495],\n",
       "       [ 1.15003572],\n",
       "       [ 0.99194602],\n",
       "       [ 0.95332413]])"
      ]
     },
     "execution_count": 30,
     "metadata": {},
     "output_type": "execute_result"
    }
   ],
   "source": [
    "w"
   ]
  },
  {
   "cell_type": "code",
   "execution_count": 31,
   "id": "3e0decaa",
   "metadata": {},
   "outputs": [
    {
     "data": {
      "text/plain": [
       "tensor([[ 0.4714],\n",
       "        [-1.1910],\n",
       "        [ 1.4327],\n",
       "        [-0.3127],\n",
       "        [-0.7206],\n",
       "        [ 0.8872],\n",
       "        [ 0.8596],\n",
       "        [-0.6365],\n",
       "        [ 0.0157],\n",
       "        [-2.2427],\n",
       "        [ 1.1500],\n",
       "        [ 0.9919],\n",
       "        [ 0.9533]], dtype=torch.float64)"
      ]
     },
     "execution_count": 31,
     "metadata": {},
     "output_type": "execute_result"
    }
   ],
   "source": [
    "w_torch"
   ]
  },
  {
   "cell_type": "code",
   "execution_count": 32,
   "id": "ebee63b7",
   "metadata": {},
   "outputs": [
    {
     "data": {
      "text/plain": [
       "tensor(0.7311)"
      ]
     },
     "execution_count": 32,
     "metadata": {},
     "output_type": "execute_result"
    }
   ],
   "source": [
    "torch.sigmoid(torch.tensor(1.0))"
   ]
  },
  {
   "cell_type": "code",
   "execution_count": 33,
   "id": "562e5902",
   "metadata": {},
   "outputs": [],
   "source": [
    "def model_torch(X, w, b):\n",
    "    logits = torch.matmul(X, w) + b\n",
    "    return torch.sigmoid(logits)\n",
    "\n",
    "def cross_entropy_torch(y_pred, y):\n",
    "    return -torch.mean(y*torch.log(y_pred) + (1-y)*torch.log(1-y_pred))\n",
    "\n",
    "def compute_cost_torch(X, y, w, b):\n",
    "    y_pred = model_torch(X, w, b)\n",
    "    return cross_entropy_torch(y_pred, y)"
   ]
  },
  {
   "cell_type": "code",
   "execution_count": 34,
   "id": "77506b57",
   "metadata": {},
   "outputs": [
    {
     "data": {
      "text/plain": [
       "tensor(0.9360, dtype=torch.float64)"
      ]
     },
     "execution_count": 34,
     "metadata": {},
     "output_type": "execute_result"
    }
   ],
   "source": [
    "compute_cost_torch(X_torch, y_torch, w_torch, b_torch)"
   ]
  },
  {
   "cell_type": "code",
   "execution_count": 35,
   "id": "feb4c4a4",
   "metadata": {},
   "outputs": [
    {
     "data": {
      "text/plain": [
       "0.9359660736461913"
      ]
     },
     "execution_count": 35,
     "metadata": {},
     "output_type": "execute_result"
    }
   ],
   "source": [
    "compute_cost(X_train_normalized, y_train, w, b)"
   ]
  },
  {
   "cell_type": "code",
   "execution_count": null,
   "id": "ed5e8017",
   "metadata": {},
   "outputs": [],
   "source": []
  },
  {
   "cell_type": "code",
   "execution_count": 36,
   "id": "f0698020",
   "metadata": {},
   "outputs": [],
   "source": [
    "w_torch = torch.tensor(w, requires_grad=True)\n",
    "b_torch = torch.tensor(b, requires_grad=True)"
   ]
  },
  {
   "cell_type": "code",
   "execution_count": 37,
   "id": "d98fe24c",
   "metadata": {},
   "outputs": [
    {
     "data": {
      "text/plain": [
       "tensor(0.9360, dtype=torch.float64, grad_fn=<NegBackward0>)"
      ]
     },
     "execution_count": 37,
     "metadata": {},
     "output_type": "execute_result"
    }
   ],
   "source": [
    "loss = compute_cost_torch(X_torch, y_torch, w_torch, b_torch)\n",
    "loss"
   ]
  },
  {
   "cell_type": "code",
   "execution_count": 38,
   "id": "99a2444d",
   "metadata": {},
   "outputs": [],
   "source": [
    "loss.backward()"
   ]
  },
  {
   "cell_type": "code",
   "execution_count": 39,
   "id": "463a9b5d",
   "metadata": {},
   "outputs": [
    {
     "data": {
      "text/plain": [
       "tensor([[ 0.1405],\n",
       "        [ 0.0432],\n",
       "        [-0.0651],\n",
       "        [ 0.0402],\n",
       "        [-0.0082],\n",
       "        [ 0.0753],\n",
       "        [ 0.0685],\n",
       "        [-0.1624],\n",
       "        [ 0.1300],\n",
       "        [-0.0293],\n",
       "        [ 0.0221],\n",
       "        [ 0.2517],\n",
       "        [ 0.1447]], dtype=torch.float64)"
      ]
     },
     "execution_count": 39,
     "metadata": {},
     "output_type": "execute_result"
    }
   ],
   "source": [
    "w_torch.grad"
   ]
  },
  {
   "cell_type": "code",
   "execution_count": 40,
   "id": "79535f59",
   "metadata": {},
   "outputs": [
    {
     "data": {
      "text/plain": [
       "array([[ 0.14053489],\n",
       "       [ 0.04324603],\n",
       "       [-0.06508423],\n",
       "       [ 0.04016067],\n",
       "       [-0.00817806],\n",
       "       [ 0.07525872],\n",
       "       [ 0.06854708],\n",
       "       [-0.1623787 ],\n",
       "       [ 0.13002419],\n",
       "       [-0.02925508],\n",
       "       [ 0.02213148],\n",
       "       [ 0.25165263],\n",
       "       [ 0.14471317]])"
      ]
     },
     "execution_count": 40,
     "metadata": {},
     "output_type": "execute_result"
    }
   ],
   "source": [
    "dw"
   ]
  },
  {
   "cell_type": "code",
   "execution_count": null,
   "id": "447e2636",
   "metadata": {},
   "outputs": [],
   "source": []
  },
  {
   "cell_type": "code",
   "execution_count": 41,
   "id": "3524f1eb",
   "metadata": {},
   "outputs": [
    {
     "data": {
      "text/plain": [
       "tensor(0.9360, dtype=torch.float64, grad_fn=<BinaryCrossEntropyBackward0>)"
      ]
     },
     "execution_count": 41,
     "metadata": {},
     "output_type": "execute_result"
    }
   ],
   "source": [
    "y_pred = model_torch(X_torch, w_torch, b_torch)\n",
    "torch.nn.functional.binary_cross_entropy(y_pred, y_torch)"
   ]
  },
  {
   "cell_type": "markdown",
   "id": "832c8c29",
   "metadata": {},
   "source": [
    "# Podsumowanie"
   ]
  },
  {
   "cell_type": "code",
   "execution_count": 42,
   "id": "45b56d2e",
   "metadata": {},
   "outputs": [
    {
     "data": {
      "text/plain": [
       "tensor(0.9360, grad_fn=<BinaryCrossEntropyWithLogitsBackward0>)"
      ]
     },
     "execution_count": 42,
     "metadata": {},
     "output_type": "execute_result"
    }
   ],
   "source": [
    "# Data\n",
    "X_torch = torch.tensor(X_train_normalized, dtype=torch.float)\n",
    "y_torch = torch.tensor(y_train, dtype=torch.float)\n",
    "\n",
    "# Model weights\n",
    "# w_torch = torch.randn(D, 1, dtype=torch.float, requires_grad=True)\n",
    "# b_torch = torch.randn(1, dtype=torch.float, requires_grad=True)\n",
    "w_torch = torch.tensor(w, dtype=torch.float, requires_grad=True)\n",
    "b_torch = torch.tensor(b, dtype=torch.float, requires_grad=True)\n",
    "\n",
    "# Model\n",
    "logits = torch.matmul(X_torch, w_torch) + b_torch\n",
    "# y_pred = torch.sigmoid(logits)\n",
    "\n",
    "loss = torch.nn.functional.binary_cross_entropy_with_logits(logits, y_torch)\n",
    "# loss = torch.nn.functional.binary_cross_entropy(y_pred, y_torch)\n",
    "\n",
    "loss"
   ]
  },
  {
   "cell_type": "code",
   "execution_count": 43,
   "id": "b027f617",
   "metadata": {},
   "outputs": [],
   "source": [
    "# Propagacja wstecz\n",
    "loss.backward()"
   ]
  },
  {
   "cell_type": "code",
   "execution_count": 44,
   "id": "2a163734",
   "metadata": {},
   "outputs": [
    {
     "data": {
      "text/plain": [
       "tensor([[ 0.1405],\n",
       "        [ 0.0432],\n",
       "        [-0.0651],\n",
       "        [ 0.0402],\n",
       "        [-0.0082],\n",
       "        [ 0.0753],\n",
       "        [ 0.0685],\n",
       "        [-0.1624],\n",
       "        [ 0.1300],\n",
       "        [-0.0293],\n",
       "        [ 0.0221],\n",
       "        [ 0.2517],\n",
       "        [ 0.1447]])"
      ]
     },
     "execution_count": 44,
     "metadata": {},
     "output_type": "execute_result"
    }
   ],
   "source": [
    "w_torch.grad"
   ]
  },
  {
   "cell_type": "code",
   "execution_count": 45,
   "id": "ac2f26ce",
   "metadata": {},
   "outputs": [
    {
     "data": {
      "text/plain": [
       "tensor(-0.0277)"
      ]
     },
     "execution_count": 45,
     "metadata": {},
     "output_type": "execute_result"
    }
   ],
   "source": [
    "b_torch.grad"
   ]
  },
  {
   "cell_type": "code",
   "execution_count": 46,
   "id": "e3649b4d",
   "metadata": {},
   "outputs": [
    {
     "data": {
      "text/plain": [
       "(array([[ 0.14053489],\n",
       "        [ 0.04324603],\n",
       "        [-0.06508423],\n",
       "        [ 0.04016067],\n",
       "        [-0.00817806],\n",
       "        [ 0.07525872],\n",
       "        [ 0.06854708],\n",
       "        [-0.1623787 ],\n",
       "        [ 0.13002419],\n",
       "        [-0.02925508],\n",
       "        [ 0.02213148],\n",
       "        [ 0.25165263],\n",
       "        [ 0.14471317]]),\n",
       " -0.027680573798261006)"
      ]
     },
     "execution_count": 46,
     "metadata": {},
     "output_type": "execute_result"
    }
   ],
   "source": [
    "dw, db"
   ]
  },
  {
   "cell_type": "code",
   "execution_count": null,
   "id": "26988940",
   "metadata": {},
   "outputs": [],
   "source": []
  }
 ],
 "metadata": {
  "kernelspec": {
   "display_name": "Python 3 (ipykernel)",
   "language": "python",
   "name": "python3"
  },
  "language_info": {
   "codemirror_mode": {
    "name": "ipython",
    "version": 3
   },
   "file_extension": ".py",
   "mimetype": "text/x-python",
   "name": "python",
   "nbconvert_exporter": "python",
   "pygments_lexer": "ipython3",
   "version": "3.9.12"
  }
 },
 "nbformat": 4,
 "nbformat_minor": 5
}
